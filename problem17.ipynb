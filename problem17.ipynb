{
 "cells": [
  {
   "cell_type": "markdown",
   "metadata": {},
   "source": [
    "# Computational Statistics - Problem 17"
   ]
  },
  {
   "cell_type": "code",
   "execution_count": null,
   "metadata": {},
   "outputs": [],
   "source": [
    "ehec.data <- read.table('./ehec.csv', sep = ';', header = FALSE, col.names=c('week', 'infections'))\n",
    "scatter.smooth(x=ehec.data$week, y=ehec.data$infections, main=\"Week ~ Infections\")"
   ]
  },
  {
   "cell_type": "markdown",
   "metadata": {},
   "source": [
    "## A"
   ]
  },
  {
   "cell_type": "code",
   "execution_count": null,
   "metadata": {},
   "outputs": [],
   "source": [
    "lin.reg <- lm(week ~ infections, ehec.data)\n",
    "summary(lin.reg)"
   ]
  },
  {
   "cell_type": "markdown",
   "metadata": {},
   "source": [
    "## B"
   ]
  },
  {
   "cell_type": "code",
   "execution_count": null,
   "metadata": {},
   "outputs": [],
   "source": [
    "#funtion provided in exercise sheet\n",
    "getHatMatrix <- function(x,h){\n",
    "    #initialiaze a 0 matrix\n",
    "    Snw <- matrix(0, nrow = length(x), ncol = length(x))\n",
    "    #get a matrix of the standard basis vectors\n",
    "    In <- diag(length(x)) ## identity matrix\n",
    "    #add influence of each standard basis vector\n",
    "    for(j in 1:length(x)){\n",
    "        y <- In[,j]\n",
    "        Snw[,j] <- ksmooth(x,y,bandwidth=h,x.points=x)\n",
    "    }\n",
    "    return(Snw)\n",
    "}"
   ]
  },
  {
   "cell_type": "markdown",
   "metadata": {},
   "source": [
    "## C"
   ]
  },
  {
   "cell_type": "code",
   "execution_count": null,
   "metadata": {},
   "outputs": [],
   "source": []
  },
  {
   "cell_type": "markdown",
   "metadata": {},
   "source": [
    "## D"
   ]
  },
  {
   "cell_type": "code",
   "execution_count": null,
   "metadata": {},
   "outputs": [],
   "source": [
    "AIC(lin.reg)"
   ]
  },
  {
   "cell_type": "markdown",
   "metadata": {},
   "source": [
    "## E"
   ]
  },
  {
   "cell_type": "code",
   "execution_count": null,
   "metadata": {},
   "outputs": [],
   "source": [
    "BIC(lin.reg)"
   ]
  }
 ],
 "metadata": {
  "kernelspec": {
   "display_name": "R",
   "language": "R",
   "name": "ir"
  },
  "language_info": {
   "codemirror_mode": "r",
   "file_extension": ".r",
   "mimetype": "text/x-r-source",
   "name": "R",
   "pygments_lexer": "r",
   "version": "3.6.1"
  }
 },
 "nbformat": 4,
 "nbformat_minor": 4
}
