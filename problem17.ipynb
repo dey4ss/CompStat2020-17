{
 "cells": [
  {
   "cell_type": "markdown",
   "metadata": {},
   "source": [
    "# Computational Statistics - Problem 17\n",
    "It is not always possible to perform a cross validation as in problem 16 (e.g.\n",
    "due to run time or lack of a sufficient number of observations or a reliable\n",
    "ground truth). An alternative is the usage of model based selection criteria.\n",
    "The most popular selection criteria are the Akaike information criterion ($AIC$)\n",
    "and the Bayesian information criterion ($BIC$). The $AIC$ is given by $AIC =\n",
    "n \\cdot log(RSS/n)-n \\cdot log(n)+2 \\cdot log(df)$, where $RSS = \\sum_{i=1}^{n}(y_i - \\hat{y_i})^2$ are the residual\n",
    "sum of squares, $n$ is the number of observations and $df$ is the number of degrees\n",
    "of freedom required for the estimate. The $ BIC = n \\cdot log(RSS/n) - n \\cdot log(n) +\n",
    "n \\cdot log(df) $ is defined very similar and favors less complex models. We use the\n",
    "same EHEC data as in problem 16 to now derive the best model for prediction\n",
    "based on the $AIC$ and $BIC$."
   ]
  },
  {
   "cell_type": "code",
   "execution_count": 1,
   "metadata": {},
   "outputs": [
    {
     "data": {
      "image/png": "[encoded data removed]",
      "text/plain": [
       "Plot with title \"Infections ~ Week\""
      ]
     },
     "metadata": {},
     "output_type": "display_data"
    }
   ],
   "source": [
    "ehec.data <- read.table('./ehec.csv', sep = ';', header = FALSE, col.names=c('week', 'infections'))\n",
    "scatter.smooth(x=ehec.data$week, y=ehec.data$infections, main=\"Infections ~ Week\")"
   ]
  },
  {
   "cell_type": "markdown",
   "metadata": {},
   "source": [
    "## A\n",
    "\n",
    "The degrees of freedom of a regression estimator is the number of parameters\n",
    "to be estimated. Equivalently, for an estimator of the type $\\hat{Y} = SY$\n",
    "it is also the trace of the hat matrix $S$, $ tr(S) = \\sum_{i=1}^n S_{ii}$. Determine the\n",
    "degrees of freedom for the linear regression model of 16 A using these\n",
    "two approaches."
   ]
  },
  {
   "cell_type": "code",
   "execution_count": 2,
   "metadata": {},
   "outputs": [
    {
     "data": {
      "text/html": [
       "<dl class=dl-horizontal>\n",
       "\t<dt>(Intercept)</dt>\n",
       "\t\t<dd>23.1322448979592</dd>\n",
       "\t<dt>week</dt>\n",
       "\t\t<dd>0.317166866746699</dd>\n",
       "</dl>\n"
      ],
      "text/latex": [
       "\\begin{description*}\n",
       "\\item[(Intercept)] 23.1322448979592\n",
       "\\item[week] 0.317166866746699\n",
       "\\end{description*}\n"
      ],
      "text/markdown": [
       "(Intercept)\n",
       ":   23.1322448979592week\n",
       ":   0.317166866746699\n",
       "\n"
      ],
      "text/plain": [
       "(Intercept)        week \n",
       " 23.1322449   0.3171669 "
      ]
     },
     "metadata": {},
     "output_type": "display_data"
    },
    {
     "name": "stdout",
     "output_type": "stream",
     "text": [
      "Linear regression has 2 parameters -> df = 2\n",
      "df: 2\n",
      "df calculated with trace 'by hand': 1\n",
      "-> difference due to intercept\n"
     ]
    }
   ],
   "source": [
    "lin.reg <- lm(infections ~ week, ehec.data)\n",
    "lin.reg$coefficients\n",
    "\n",
    "writeLines(\"Linear regression has 2 parameters -> df = 2\")\n",
    "\n",
    "writeLines(sprintf(\"df: %s\", sum(lm.influence(lin.reg)$hat)))\n",
    "\n",
    "X <- ehec.data$week\n",
    "H <- X %*% solve(t(X) %*% X) %*% t(X)\n",
    "writeLines(sprintf(\"df calculated with trace 'by hand': %s\", sum(diag(H))))\n",
    "writeLines(\"-> difference due to intercept\")"
   ]
  },
  {
   "cell_type": "markdown",
   "metadata": {},
   "source": [
    "## B\n",
    "\n",
    "For the Nadaraya-Watson estimator, we can only rely on estimating the\n",
    "trace of the hat matrix. The hat matrix of the Nadaraya-Watson estimator\n",
    "can be computed using the following R-function. Compute the\n",
    "degrees of freedom for a Nadaraya-Watson estimator with a Gaussian\n",
    "kernel and bandwidths $h_2 = 2$, $h_3 = 5$, and $h_4 = 10$."
   ]
  },
  {
   "cell_type": "code",
   "execution_count": 3,
   "metadata": {},
   "outputs": [
    {
     "name": "stdout",
     "output_type": "stream",
     "text": [
      "h = 1: df = 50\n",
      "h = 2: df = 17\n",
      "h = 5: df = 10.3666666666667\n",
      "h = 10: df = 4.92763347763348\n"
     ]
    }
   ],
   "source": [
    "#funtion provided in exercise sheet\n",
    "getHatMatrix <- function(x,h){\n",
    "    #initialiaze a 0 matrix\n",
    "    Snw <- matrix(0, nrow = length(x), ncol = length(x))\n",
    "    #get a matrix of the standard basis vectors\n",
    "    In <- diag(length(x)) ## identity matrix\n",
    "    #add influence of each standard basis vector\n",
    "    for(j in 1:length(x)){\n",
    "        y <- In[,j]\n",
    "        Snw[,j] <- ksmooth(x,y,bandwidth=h,x.points=x)$y\n",
    "    }\n",
    "    return(Snw)\n",
    "}\n",
    "\n",
    "getDf <- function(x,h) {\n",
    "    hat = getHatMatrix(x, h)\n",
    "    return(sum(diag(hat)))\n",
    "}\n",
    "\n",
    "hs <- c(1, 2, 5, 10)\n",
    "for(h in hs) {\n",
    "    writeLines(sprintf('h = %s: df = %s', h, getDf(ehec.data$week, h)))\n",
    "}"
   ]
  },
  {
   "cell_type": "markdown",
   "metadata": {},
   "source": [
    "## C\n",
    "Compute the residual sum of squares ($RSS$) for all bandwidths considered\n",
    "and for the linear regression model."
   ]
  },
  {
   "cell_type": "code",
   "execution_count": 4,
   "metadata": {},
   "outputs": [
    {
     "name": "stdout",
     "output_type": "stream",
     "text": [
      "linear regression\n",
      "rss = 2563.13642256903\n",
      "\n",
      "\n",
      "kernel\n",
      "h = 1: rss = 0\n",
      "h = 2: rss = 722.666666666667\n",
      "h = 5: rss = 1295.46055555556\n",
      "h = 10: rss = 1416.6471516859\n"
     ]
    }
   ],
   "source": [
    "rss <- function(y, y.hat) {\n",
    "    return(sum((y - y.hat)^2))\n",
    "}\n",
    "\n",
    "rss.lin.reg <- sum((lin.reg$residuals)^2)\n",
    "writeLines(sprintf(\"linear regression\\nrss = %s\\n\", rss.lin.reg))\n",
    "\n",
    "writeLines(\"\\nkernel\")\n",
    "for(h in hs) {\n",
    "    y.hat <- ksmooth(ehec.data$week, ehec.data$infection, bandwidth=h, x.points=ehec.data$week)$y\n",
    "    writeLines(sprintf('h = %s: rss = %s', h, rss(ehec.data$infections, y.hat)))\n",
    "}"
   ]
  },
  {
   "cell_type": "markdown",
   "metadata": {},
   "source": [
    "## D\n",
    "Compute the $AIC$ for all models. Which model has the smallest $AIC$\n",
    "and should thus be prefered?"
   ]
  },
  {
   "cell_type": "code",
   "execution_count": 5,
   "metadata": {},
   "outputs": [
    {
     "name": "stdout",
     "output_type": "stream",
     "text": [
      "linear regression\n",
      "aic (exercise) = 2.63334145017305\n",
      "aic (slides) = 5.24704708905315\n",
      "aic (built-in 1) = 344.742050680928\n",
      "aic (built-in 2) = 200.84819736046\n",
      "\n",
      "\n",
      "kernel\n",
      "h = 1: aic (exercise) = -Inf\n",
      "h = 1: aic (slides) = -Inf\n",
      "h = 2: aic (exercise) = -56.3884701601308\n",
      "h = 2: aic (slides) = -28.0548968482432\n",
      "h = 5: aic (exercise) = -28.1940318685863\n",
      "h = 5: aic (slides) = -12.1378895962872\n",
      "h = 10: aic (exercise) = -25.2101729530982\n",
      "h = 10: aic (slides) = -18.5446236938012\n"
     ]
    }
   ],
   "source": [
    "aic <- function(n, rss, df) {\n",
    "    return(n * log(rss/n) - n * log(n) + 2 * log(df))\n",
    "}\n",
    "\n",
    "aic2 <- function(n, rss, df) {\n",
    "    return(n * log(rss/n) - n * log(n) + 2 * df)\n",
    "}\n",
    "\n",
    "writeLines(\"linear regression\")\n",
    "writeLines(sprintf(\"aic (exercise) = %s\", aic(50, rss.lin.reg, 2)))\n",
    "writeLines(sprintf(\"aic (slides) = %s\", aic2(50, rss.lin.reg, 2)))\n",
    "writeLines(sprintf(\"aic (built-in 1) = %s\", AIC(lin.reg)))\n",
    "writeLines(sprintf(\"aic (built-in 2) = %s\", extractAIC(lin.reg)[2]))\n",
    "\n",
    "writeLines(\"\\n\\nkernel\")\n",
    "for(h in hs) {\n",
    "    kernel <- ksmooth(ehec.data$week, ehec.data$infections, bandwidth=h, x.points=ehec.data$week)\n",
    "    y.hat <- kernel$y\n",
    "    kernel.rss <- rss(ehec.data$infections, y.hat)\n",
    "    kernel.aic <- aic(50, kernel.rss, getDf(ehec.data$week, h))\n",
    "    kernel.aic2 <- aic2(50, kernel.rss, getDf(ehec.data$week, h))\n",
    "    \n",
    "    writeLines(sprintf('h = %s: aic (exercise) = %s', h, kernel.aic))\n",
    "    writeLines(sprintf('h = %s: aic (slides) = %s', h, kernel.aic2))\n",
    "}"
   ]
  },
  {
   "cell_type": "markdown",
   "metadata": {},
   "source": [
    "## E\n",
    "Compute the $BIC$ for all models. Which model has the smallest $BIC$\n",
    "and should thus be prefered?"
   ]
  },
  {
   "cell_type": "code",
   "execution_count": 6,
   "metadata": {},
   "outputs": [
    {
     "name": "stdout",
     "output_type": "stream",
     "text": [
      "linear regression\n",
      "bic (exercise) = 35.9044061170504\n",
      "bic (slides) = 9.07109309990945\n",
      "bic (built-in) = 350.478119697212\n",
      "\n",
      "\n",
      "kernel\n",
      "h = 1: bic (exercise) = -Inf\n",
      "h = 1: bic (slides) = -Inf\n",
      "h = 2: bic (exercise) = 79.6057703545676\n",
      "h = 2: bic (slides) = 4.44949424403525\n",
      "h = 5: bic (exercise) = 84.0585535962335\n",
      "h = 5: bic (slides) = 7.68341555998462\n",
      "h = 10: bic (exercise) = 51.3430517501821\n",
      "h = 10: bic (slides) = -9.1228751222481\n"
     ]
    }
   ],
   "source": [
    "bic <- function(n, rss, df) {\n",
    "    return(n * log(rss/n) - n * log(n) + n * log(df))\n",
    "}\n",
    "\n",
    "bic2 <- function(n, rss, df) {\n",
    "    return(n * log(rss/n) - n * log(n) + df * log(n))\n",
    "}\n",
    "\n",
    "writeLines(\"linear regression\")\n",
    "writeLines(sprintf(\"bic (exercise) = %s\", bic(length(lin.reg$residuals), rss.lin.reg, 2)))\n",
    "writeLines(sprintf(\"bic (slides) = %s\", bic2(length(lin.reg$residuals), rss.lin.reg, 2)))\n",
    "writeLines(sprintf(\"bic (built-in) = %s\", BIC(lin.reg)))\n",
    "\n",
    "writeLines(\"\\n\\nkernel\")\n",
    "for(h in hs) {\n",
    "    kernel <- ksmooth(ehec.data$week, ehec.data$infections, bandwidth=h, x.points=ehec.data$week)\n",
    "    y.hat <- kernel$y\n",
    "    kernel.rss <- rss(ehec.data$infections, y.hat)\n",
    "    kernel.bic <- bic(50, kernel.rss, getDf(ehec.data$week, h))\n",
    "    kernel.bic2 <- bic2(50, kernel.rss, getDf(ehec.data$week, h))\n",
    "    \n",
    "    writeLines(sprintf('h = %s: bic (exercise) = %s', h, kernel.bic))\n",
    "    writeLines(sprintf('h = %s: bic (slides) = %s', h, kernel.bic2))\n",
    "}"
   ]
  },
  {
   "cell_type": "code",
   "execution_count": null,
   "metadata": {},
   "outputs": [],
   "source": []
  }
 ],
 "metadata": {
  "kernelspec": {
   "display_name": "R",
   "language": "R",
   "name": "ir"
  },
  "language_info": {
   "codemirror_mode": "r",
   "file_extension": ".r",
   "mimetype": "text/x-r-source",
   "name": "R",
   "pygments_lexer": "r",
   "version": "3.6.1"
  }
 },
 "nbformat": 4,
 "nbformat_minor": 4
}
