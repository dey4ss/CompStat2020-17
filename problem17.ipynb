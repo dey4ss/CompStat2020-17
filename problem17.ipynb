{
 "cells": [
  {
   "cell_type": "markdown",
   "metadata": {},
   "source": [
    "# Computational Statistics - Problem 17\n",
    "It is not always possible to perform a cross validation as in problem 16 (e.g.\n",
    "due to run time or lack of a sufficient number of observations or a reliable\n",
    "ground truth). An alternative is the usage of model based selection criteria.\n",
    "The most popular selection criteria are the Akaike information criterion (AIC)\n",
    "and the Bayesian information criterion (BIC). The AIC is given by $AIC =\n",
    "n log(RSS=n)-nlog(n)+2log(df)$, where $RSS = \\sum_{i=1}^{n}(y_i * \\hat{y_i})^2$ are the residual\n",
    "sum of squares, n is the number of observations and df is the number of degrees\n",
    "of freedom required for the estimate. The $ BIC = n log(RSS/n) - nlog(n) +\n",
    "nlog(df) $ is de\f",
    "ned very similar and favors less complex models. We use the\n",
    "same EHEC data as in problem 16 to now derive the best model for prediction\n",
    "based on the AIC and BIC."
   ]
  },
  {
   "cell_type": "code",
   "execution_count": 1,
   "metadata": {},
   "outputs": [
    {
     "data": {
      "image/png": "[encoded data removed]",
      "text/plain": [
       "Plot with title \"Week ~ Infections\""
      ]
     },
     "metadata": {},
     "output_type": "display_data"
    }
   ],
   "source": [
    "ehec.data <- read.table('./ehec.csv', sep = ';', header = FALSE, col.names=c('week', 'infections'))\n",
    "scatter.smooth(x=ehec.data$week, y=ehec.data$infections, main=\"Week ~ Infections\")"
   ]
  },
  {
   "cell_type": "markdown",
   "metadata": {},
   "source": [
    "## A\n",
    "\n",
    "The degrees of freedom of a regression estimator is the number of parameters\n",
    "to be estimated. Equivalently, for an estimator of the type $\\hat{Y} = SY$\n",
    "it is also the trace of the hat matrix S, $ tr(S) = \\sum_{i=1}^n S_{ii}$. Determine the\n",
    "degrees of freedom for the linear regression model of 16 A using these\n",
    "two approaches."
   ]
  },
  {
   "cell_type": "code",
   "execution_count": 74,
   "metadata": {},
   "outputs": [
    {
     "data": {
      "text/html": [
       "<dl class=dl-horizontal>\n",
       "\t<dt>(Intercept)</dt>\n",
       "\t\t<dd>-3.05609071118767</dd>\n",
       "\t<dt>infections</dt>\n",
       "\t\t<dd>0.91467298882728</dd>\n",
       "</dl>\n"
      ],
      "text/latex": [
       "\\begin{description*}\n",
       "\\item[(Intercept)] -3.05609071118767\n",
       "\\item[infections] 0.91467298882728\n",
       "\\end{description*}\n"
      ],
      "text/markdown": [
       "(Intercept)\n",
       ":   -3.05609071118767infections\n",
       ":   0.91467298882728\n",
       "\n"
      ],
      "text/plain": [
       "(Intercept)  infections \n",
       "  -3.056091    0.914673 "
      ]
     },
     "metadata": {},
     "output_type": "display_data"
    },
    {
     "name": "stdout",
     "output_type": "stream",
     "text": [
      "[1] \"Linear regression has 2 parameters -> df = 2\"\n",
      "[1] \"df: 2\"\n",
      "[1] \"df calculated with trace 'by hand': 1\"\n",
      "[1] \"-> difference due to intercept\"\n"
     ]
    }
   ],
   "source": [
    "lin.reg <- lm(week ~ infections, ehec.data)\n",
    "lin.reg$coefficients\n",
    "\n",
    "print(\"Linear regression has 2 parameters -> df = 2\")\n",
    "\n",
    "print(paste(\"df:\", sum(lm.influence(lin.reg)$hat)))\n",
    "\n",
    "X <- ehec.data$infections\n",
    "H <- X %*% solve(t(X) %*% X) %*% t(X)\n",
    "print(paste(\"df calculated with trace 'by hand':\", sum(diag(H))))\n",
    "print(\"-> difference due to intercept\")"
   ]
  },
  {
   "cell_type": "markdown",
   "metadata": {},
   "source": [
    "## B\n",
    "\n",
    "For the Nadaraya-Watson estimator, we can only rely on estimating the\n",
    "trace of the hat matrix. The hat matrix of the Nadaraya-Watson estimator\n",
    "can be computed using the following R-function. Compute the\n",
    "degrees of freedom for a Nadaraya-Watson estimator with a Gaussian\n",
    "kernel and bandwidths h2 = 2, h3 = 5, and h4 = 10."
   ]
  },
  {
   "cell_type": "code",
   "execution_count": 3,
   "metadata": {},
   "outputs": [
    {
     "name": "stdout",
     "output_type": "stream",
     "text": [
      "[1] \"h = 1: df = 2.33333333333333\"\n",
      "[1] \"h = 2: df = 1.61111111111111\"\n",
      "[1] \"h = 5: df = 2.20476925035749\"\n",
      "[1] \"h = 10: df = 1.70989024047848\"\n"
     ]
    }
   ],
   "source": [
    "#funtion provided in exercise sheet\n",
    "getHatMatrix <- function(x,h){\n",
    "    #initialiaze a 0 matrix\n",
    "    Snw <- matrix(0, nrow = length(x), ncol = length(x))\n",
    "    #get a matrix of the standard basis vectors\n",
    "    In <- diag(length(x)) ## identity matrix\n",
    "    #add influence of each standard basis vector\n",
    "    for(j in 1:length(x)){\n",
    "        y <- In[,j]\n",
    "        Snw[,j] <- ksmooth(x,y,bandwidth=h,x.points=x)$y\n",
    "    }\n",
    "    return(Snw)\n",
    "}\n",
    "\n",
    "getDf <- function(x,h) {\n",
    "    hat = getHatMatrix(ehec.data$infections, h)\n",
    "    return(sum(diag(hat)))\n",
    "}\n",
    "\n",
    "hs <- c(1, 2, 5, 10)\n",
    "for(h in hs) {\n",
    "    print(paste('h = ', h, ': df = ', getDf(ehec.data$infections, h), sep = ''))\n",
    "}"
   ]
  },
  {
   "cell_type": "markdown",
   "metadata": {},
   "source": [
    "## C\n",
    "Compute the residual sum of squares (RSS) for all bandwidths considered\n",
    "and for the linear regression model."
   ]
  },
  {
   "cell_type": "code",
   "execution_count": 55,
   "metadata": {},
   "outputs": [
    {
     "name": "stdout",
     "output_type": "stream",
     "text": [
      "[1] \"h = 1: rss = 0\"\n",
      "[1] \"h = 2: rss = 722.666666666667\"\n",
      "[1] \"h = 5: rss = 1295.46055555556\"\n",
      "[1] \"h = 10: rss = 1416.6471516859\"\n"
     ]
    },
    {
     "data": {
      "text/html": [
       "7391.79245439791"
      ],
      "text/latex": [
       "7391.79245439791"
      ],
      "text/markdown": [
       "7391.79245439791"
      ],
      "text/plain": [
       "[1] 7391.792"
      ]
     },
     "metadata": {},
     "output_type": "display_data"
    }
   ],
   "source": [
    "rss <- function(y, y.hat) {\n",
    "    return(sum((y - y.hat)^2))\n",
    "}\n",
    "\n",
    "for(h in hs) {\n",
    "    y.hat <- ksmooth(ehec.data$week, ehec.data$infections, bandwidth=h, x.points=ehec.data$week)$y\n",
    "    print(paste('h = ', h, ': rss = ', rss(ehec.data$infections, y.hat), sep = ''))\n",
    "}\n",
    "\n",
    "rss.lin.reg <- sum((lin.reg$residuals)^2)\n",
    "rss.lin.reg\n",
    "\n"
   ]
  },
  {
   "cell_type": "markdown",
   "metadata": {},
   "source": [
    "## D\n",
    "Compute the AIC for all models. Which model has the smallest AIC\n",
    "and should thus be prefered?"
   ]
  },
  {
   "cell_type": "code",
   "execution_count": 68,
   "metadata": {},
   "outputs": [
    {
     "data": {
      "text/html": [
       "55.5902706118449"
      ],
      "text/latex": [
       "55.5902706118449"
      ],
      "text/markdown": [
       "55.5902706118449"
      ],
      "text/plain": [
       "[1] 55.59027"
      ]
     },
     "metadata": {},
     "output_type": "display_data"
    },
    {
     "data": {
      "text/html": [
       "58.203976250725"
      ],
      "text/latex": [
       "58.203976250725"
      ],
      "text/markdown": [
       "58.203976250725"
      ],
      "text/plain": [
       "[1] 58.20398"
      ]
     },
     "metadata": {},
     "output_type": "display_data"
    },
    {
     "data": {
      "text/html": [
       "397.6989798426"
      ],
      "text/latex": [
       "397.6989798426"
      ],
      "text/markdown": [
       "397.6989798426"
      ],
      "text/plain": [
       "[1] 397.699"
      ]
     },
     "metadata": {},
     "output_type": "display_data"
    },
    {
     "data": {
      "text/html": [
       "253.805126522132"
      ],
      "text/latex": [
       "253.805126522132"
      ],
      "text/markdown": [
       "253.805126522132"
      ],
      "text/plain": [
       "[1] 253.8051"
      ]
     },
     "metadata": {},
     "output_type": "display_data"
    },
    {
     "name": "stdout",
     "output_type": "stream",
     "text": [
      "[1] \"h = 1: aic (exercise) = -Inf\"\n",
      "[1] \"h = 1: aic (slides) = -Inf\"\n",
      "[1] \"h = 2: aic (exercise) = -61.1010487040626\"\n",
      "[1] \"h = 2: aic (slides) = -58.832674626021\"\n",
      "[1] \"h = 5: aic (exercise) = -31.2899772195028\"\n",
      "[1] \"h = 5: aic (slides) = -28.4616844289055\"\n",
      "[1] \"h = 10: aic (exercise) = -27.3270322858685\"\n",
      "[1] \"h = 10: aic (slides) = -24.9801101681112\"\n"
     ]
    }
   ],
   "source": [
    "aic <- function(n, rss, df) {\n",
    "    return(n * log(rss/n) - n * log(n) + 2 * log(df))\n",
    "}\n",
    "\n",
    "aic2 <- function(n, rss, df) {\n",
    "    return(n * log(rss/n) - n * log(n) + 2 * df)\n",
    "}\n",
    "\n",
    "aic(50, rss.lin.reg, 2)\n",
    "aic2(50, rss.lin.reg, 2)\n",
    "AIC(lin.reg)\n",
    "extractAIC(lin.reg)[2]\n",
    "\n",
    "for(h in hs) {\n",
    "    kernel <- ksmooth(ehec.data$week, ehec.data$infections, bandwidth=h, x.points=ehec.data$week)\n",
    "    y.hat <- ksmooth(ehec.data$week, ehec.data$infections, bandwidth=h, x.points=ehec.data$week)$y\n",
    "    kernel.rss <- rss(ehec.data$infections, y.hat)\n",
    "    kernel.aic <- aic(50, kernel.rss, getDf(ehec.data$infections, h))\n",
    "    kernel.aic2 <- aic2(50, kernel.rss, getDf(ehec.data$infections, h))\n",
    "    \n",
    "    print(paste('h = ', h, ': aic (exercise) = ', kernel.aic, sep = ''))\n",
    "    print(paste('h = ', h, ': aic (slides) = ', kernel.aic2, sep = ''))\n",
    "}"
   ]
  },
  {
   "cell_type": "markdown",
   "metadata": {},
   "source": [
    "## E\n",
    "Compute the BIC for all models. Which model has the smallest BIC\n",
    "and should thus be prefered?"
   ]
  },
  {
   "cell_type": "code",
   "execution_count": 72,
   "metadata": {},
   "outputs": [
    {
     "data": {
      "text/html": [
       "88.8613352787223"
      ],
      "text/latex": [
       "88.8613352787223"
      ],
      "text/markdown": [
       "88.8613352787223"
      ],
      "text/plain": [
       "[1] 88.86134"
      ]
     },
     "metadata": {},
     "output_type": "display_data"
    },
    {
     "data": {
      "text/html": [
       "403.435048858884"
      ],
      "text/latex": [
       "403.435048858884"
      ],
      "text/markdown": [
       "403.435048858884"
      ],
      "text/plain": [
       "[1] 403.435"
      ]
     },
     "metadata": {},
     "output_type": "display_data"
    },
    {
     "name": "stdout",
     "output_type": "stream",
     "text": [
      "[1] \"h = 1: bic (exercise) = -Inf\"\n",
      "[1] \"h = 1: bic (slides) = -Inf\"\n",
      "[1] \"h = 2: bic (exercise) = -38.2086932437278\"\n",
      "[1] \"h = 2: bic (slides) = -55.7521931172757\"\n",
      "[1] \"h = 5: bic (exercise) = 6.65991982332125\"\n",
      "[1] \"h = 5: bic (slides) = -24.2461149005615\"\n",
      "[1] \"h = 10: bic (exercise) = -1.57843156907759\"\n",
      "[1] \"h = 10: bic (slides) = -21.7107606915593\"\n"
     ]
    }
   ],
   "source": [
    "bic <- function(n, rss, df) {\n",
    "    return(n * log(rss/n) - n * log(n) + n * log(df))\n",
    "}\n",
    "\n",
    "bic2 <- function(n, rss, df) {\n",
    "    return(n * log(rss/n) - n * log(n) + df * log(n))\n",
    "}\n",
    "\n",
    "bic(length(lin.reg$residuals), rss.lin.reg, 2)\n",
    "BIC(lin.reg)\n",
    "\n",
    "for(h in hs) {\n",
    "    kernel <- ksmooth(ehec.data$week, ehec.data$infections, bandwidth=h, x.points=ehec.data$week)\n",
    "    y.hat <- ksmooth(ehec.data$week, ehec.data$infections, bandwidth=h, x.points=ehec.data$week)$y\n",
    "    kernel.rss <- rss(ehec.data$infections, y.hat)\n",
    "    kernel.bic <- bic(50, kernel.rss, getDf(ehec.data$infections, h))\n",
    "    kernel.bic2 <- bic2(50, kernel.rss, getDf(ehec.data$infections, h))\n",
    "    \n",
    "    print(paste('h = ', h, ': bic (exercise) = ', kernel.bic, sep = ''))\n",
    "        print(paste('h = ', h, ': bic (slides) = ', kernel.bic2, sep = ''))\n",
    "}"
   ]
  }
 ],
 "metadata": {
  "kernelspec": {
   "display_name": "R",
   "language": "R",
   "name": "ir"
  },
  "language_info": {
   "codemirror_mode": "r",
   "file_extension": ".r",
   "mimetype": "text/x-r-source",
   "name": "R",
   "pygments_lexer": "r",
   "version": "3.6.1"
  }
 },
 "nbformat": 4,
 "nbformat_minor": 4
}
